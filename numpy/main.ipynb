{
 "cells": [
  {
   "cell_type": "code",
   "execution_count": 1,
   "id": "f7a32683",
   "metadata": {},
   "outputs": [],
   "source": [
    "import numpy as np"
   ]
  },
  {
   "cell_type": "markdown",
   "id": "a969560e",
   "metadata": {},
   "source": [
    "## NumPy Array and its Attributes"
   ]
  },
  {
   "cell_type": "code",
   "execution_count": 2,
   "id": "a0e40262",
   "metadata": {},
   "outputs": [],
   "source": [
    "# NumPy's main datatype is ndarray (a.k.a n-dimentional array or multidimentional array)"
   ]
  },
  {
   "cell_type": "code",
   "execution_count": 2,
   "id": "235b1dc8",
   "metadata": {},
   "outputs": [
    {
     "data": {
      "text/plain": [
       "array([1, 2, 3])"
      ]
     },
     "execution_count": 2,
     "metadata": {},
     "output_type": "execute_result"
    }
   ],
   "source": [
    "# vector shape = (1,3) Row*Column or (3,)\n",
    "\n",
    "a1 = np.array([1,2,3])\n",
    "\n",
    "a1"
   ]
  },
  {
   "cell_type": "code",
   "execution_count": 3,
   "id": "18804174",
   "metadata": {},
   "outputs": [
    {
     "data": {
      "text/plain": [
       "numpy.ndarray"
      ]
     },
     "execution_count": 3,
     "metadata": {},
     "output_type": "execute_result"
    }
   ],
   "source": [
    "type(a1)"
   ]
  },
  {
   "cell_type": "code",
   "execution_count": 19,
   "id": "889fef28",
   "metadata": {},
   "outputs": [
    {
     "data": {
      "text/plain": [
       "array([[1, 2, 3],\n",
       "       [4, 5, 6]])"
      ]
     },
     "execution_count": 19,
     "metadata": {},
     "output_type": "execute_result"
    }
   ],
   "source": [
    "# matrix shape = (2,3)\n",
    "\n",
    "a2 = np.array([[1,2,3],\n",
    "               [4,5,6]])\n",
    "\n",
    "a2"
   ]
  },
  {
   "cell_type": "code",
   "execution_count": 12,
   "id": "bcc3bbcc",
   "metadata": {},
   "outputs": [
    {
     "data": {
      "text/plain": [
       "array([[[ 1,  2,  3],\n",
       "        [ 4,  5,  6],\n",
       "        [ 7,  8,  9]],\n",
       "\n",
       "       [[10, 11, 12],\n",
       "        [13, 14, 15],\n",
       "        [16, 17, 18]]])"
      ]
     },
     "execution_count": 12,
     "metadata": {},
     "output_type": "execute_result"
    }
   ],
   "source": [
    "# matrix shape = (2,3,3) layers*row*column\n",
    "\n",
    "a3 = np.array([[[1,2,3],[4,5,6],[7,8,9]], [[10,11,12],[13,14,15],[16,17,18]]])\n",
    "\n",
    "a3"
   ]
  },
  {
   "cell_type": "markdown",
   "id": "f3a4b151",
   "metadata": {},
   "source": [
    "![\"Anatomy of an Array\"](anatomy.png)"
   ]
  },
  {
   "cell_type": "code",
   "execution_count": 25,
   "id": "11235619",
   "metadata": {},
   "outputs": [
    {
     "name": "stdout",
     "output_type": "stream",
     "text": [
      "a1 shape = (3,)\n",
      "a2 shape = (2, 3)\n",
      "a3 shape = (2, 3, 3)\n"
     ]
    }
   ],
   "source": [
    "print(f\"a1 shape = {a1.shape}\")\n",
    "print(f\"a2 shape = {a2.shape}\")\n",
    "print(f\"a3 shape = {a3.shape}\")"
   ]
  },
  {
   "cell_type": "code",
   "execution_count": 27,
   "id": "b7d11a4f",
   "metadata": {},
   "outputs": [
    {
     "name": "stdout",
     "output_type": "stream",
     "text": [
      "a1.ndim = 1\n",
      "a2.ndim = 2\n",
      "a3.ndim = 3\n"
     ]
    }
   ],
   "source": [
    "# no of dimensions\n",
    "print(f\"a1.ndim = {a1.ndim}\")\n",
    "print(f\"a2.ndim = {a2.ndim}\")\n",
    "print(f\"a3.ndim = {a3.ndim}\")"
   ]
  },
  {
   "cell_type": "code",
   "execution_count": 30,
   "id": "b11adba9",
   "metadata": {},
   "outputs": [
    {
     "data": {
      "text/plain": [
       "(3, 6, 18)"
      ]
     },
     "execution_count": 30,
     "metadata": {},
     "output_type": "execute_result"
    }
   ],
   "source": [
    "# total num of items in the array\n",
    "\n",
    "a1.size, a2.size, a3.size"
   ]
  },
  {
   "cell_type": "code",
   "execution_count": 34,
   "id": "59782384",
   "metadata": {},
   "outputs": [
    {
     "data": {
      "text/plain": [
       "dtype('int32')"
      ]
     },
     "execution_count": 34,
     "metadata": {},
     "output_type": "execute_result"
    }
   ],
   "source": [
    "# check the data types of the items in the matrix\n",
    "\n",
    "a3.dtype"
   ]
  },
  {
   "cell_type": "code",
   "execution_count": 41,
   "id": "7a835bf2",
   "metadata": {},
   "outputs": [
    {
     "data": {
      "text/plain": [
       "numpy.ndarray"
      ]
     },
     "execution_count": 41,
     "metadata": {},
     "output_type": "execute_result"
    }
   ],
   "source": [
    "# check the datatye of the matrix\n",
    "\n",
    "type(a3)"
   ]
  },
  {
   "cell_type": "code",
   "execution_count": 36,
   "id": "35ee1326",
   "metadata": {},
   "outputs": [],
   "source": [
    "# Most ML tools are built on top of NumPy\n",
    "# Data fed into models need to be converted to numbers\n",
    "# NumPy does that very fast and effeciently cz it is built using C\n",
    "# Machine learning boils down to finding patterns in the numbers within ndarrays "
   ]
  },
  {
   "cell_type": "code",
   "execution_count": 37,
   "id": "8d522cd1",
   "metadata": {},
   "outputs": [
    {
     "data": {
      "text/html": [
       "<div>\n",
       "<style scoped>\n",
       "    .dataframe tbody tr th:only-of-type {\n",
       "        vertical-align: middle;\n",
       "    }\n",
       "\n",
       "    .dataframe tbody tr th {\n",
       "        vertical-align: top;\n",
       "    }\n",
       "\n",
       "    .dataframe thead th {\n",
       "        text-align: right;\n",
       "    }\n",
       "</style>\n",
       "<table border=\"1\" class=\"dataframe\">\n",
       "  <thead>\n",
       "    <tr style=\"text-align: right;\">\n",
       "      <th></th>\n",
       "      <th>0</th>\n",
       "      <th>1</th>\n",
       "      <th>2</th>\n",
       "    </tr>\n",
       "  </thead>\n",
       "  <tbody>\n",
       "    <tr>\n",
       "      <th>0</th>\n",
       "      <td>1</td>\n",
       "      <td>2</td>\n",
       "      <td>3</td>\n",
       "    </tr>\n",
       "    <tr>\n",
       "      <th>1</th>\n",
       "      <td>4</td>\n",
       "      <td>5</td>\n",
       "      <td>6</td>\n",
       "    </tr>\n",
       "  </tbody>\n",
       "</table>\n",
       "</div>"
      ],
      "text/plain": [
       "   0  1  2\n",
       "0  1  2  3\n",
       "1  4  5  6"
      ]
     },
     "execution_count": 37,
     "metadata": {},
     "output_type": "execute_result"
    }
   ],
   "source": [
    "# create a DataFrame from a NumPy Array\n",
    "\n",
    "import pandas as pd\n",
    "\n",
    "df = pd.DataFrame(a2)\n",
    "\n",
    "df"
   ]
  },
  {
   "cell_type": "markdown",
   "id": "077ec4ef",
   "metadata": {},
   "source": [
    "## Creating Arrays"
   ]
  },
  {
   "cell_type": "code",
   "execution_count": 39,
   "id": "9db101ca",
   "metadata": {},
   "outputs": [
    {
     "data": {
      "text/plain": [
       "array([1, 2, 3])"
      ]
     },
     "execution_count": 39,
     "metadata": {},
     "output_type": "execute_result"
    }
   ],
   "source": [
    "manual_array = np.array([1,2,3])\n",
    "manual_array"
   ]
  },
  {
   "cell_type": "code",
   "execution_count": 5,
   "id": "740b185b",
   "metadata": {},
   "outputs": [
    {
     "data": {
      "text/plain": [
       "array([[[1, 1, 1],\n",
       "        [1, 1, 1],\n",
       "        [1, 1, 1]],\n",
       "\n",
       "       [[1, 1, 1],\n",
       "        [1, 1, 1],\n",
       "        [1, 1, 1]]], dtype=int64)"
      ]
     },
     "execution_count": 5,
     "metadata": {},
     "output_type": "execute_result"
    }
   ],
   "source": [
    "ones_array = np.ones(shape=(2,3,3), dtype=np.int64)\n",
    "\n",
    "ones_array"
   ]
  },
  {
   "cell_type": "code",
   "execution_count": 47,
   "id": "74a2d3a3",
   "metadata": {},
   "outputs": [
    {
     "data": {
      "text/plain": [
       "array([[[0, 0, 0],\n",
       "        [0, 0, 0],\n",
       "        [0, 0, 0]],\n",
       "\n",
       "       [[0, 0, 0],\n",
       "        [0, 0, 0],\n",
       "        [0, 0, 0]]], dtype=int64)"
      ]
     },
     "execution_count": 47,
     "metadata": {},
     "output_type": "execute_result"
    }
   ],
   "source": [
    "zeros_array = np.zeros(shape=(2,3,3), dtype=np.int64)\n",
    "\n",
    "zeros_array"
   ]
  },
  {
   "cell_type": "code",
   "execution_count": 48,
   "id": "321ada9e",
   "metadata": {},
   "outputs": [
    {
     "data": {
      "text/plain": [
       "(array([0, 1, 2]), array([1, 2, 3, 4]))"
      ]
     },
     "execution_count": 48,
     "metadata": {},
     "output_type": "execute_result"
    }
   ],
   "source": [
    "range_array = np.arange(3)\n",
    "\n",
    "range_array_2 = np.arange(1,5)\n",
    "\n",
    "range_array, range_array_2"
   ]
  },
  {
   "cell_type": "code",
   "execution_count": 52,
   "id": "13baa0c0",
   "metadata": {},
   "outputs": [
    {
     "data": {
      "text/plain": [
       "array([[6, 7, 8],\n",
       "       [4, 5, 8],\n",
       "       [7, 1, 1]])"
      ]
     },
     "execution_count": 52,
     "metadata": {},
     "output_type": "execute_result"
    }
   ],
   "source": [
    "random_array = np.random.randint(low=1, high=10, size=(3,3))\n",
    "\n",
    "random_array"
   ]
  },
  {
   "cell_type": "code",
   "execution_count": 54,
   "id": "10f91507",
   "metadata": {},
   "outputs": [
    {
     "data": {
      "text/plain": [
       "array([[0.88097002, 0.20091965, 0.86287399],\n",
       "       [0.7111912 , 0.45960057, 0.87420375],\n",
       "       [0.54625928, 0.38830958, 0.90783139]])"
      ]
     },
     "execution_count": 54,
     "metadata": {},
     "output_type": "execute_result"
    }
   ],
   "source": [
    "random_array_2 = np.random.random(size=(3,3))\n",
    "\n",
    "random_array_2"
   ]
  },
  {
   "cell_type": "code",
   "execution_count": 55,
   "id": "beece86c",
   "metadata": {},
   "outputs": [
    {
     "data": {
      "text/plain": [
       "array([[4, 1],\n",
       "       [2, 3]])"
      ]
     },
     "execution_count": 55,
     "metadata": {},
     "output_type": "execute_result"
    }
   ],
   "source": [
    "np.random.seed(7)\n",
    "\n",
    "random_array_3 = np.random.randint(low=1, high=5, size=(2,2))\n",
    "\n",
    "random_array_3"
   ]
  },
  {
   "cell_type": "code",
   "execution_count": 56,
   "id": "a3ece823",
   "metadata": {},
   "outputs": [
    {
     "data": {
      "text/plain": [
       "array([[4, 1],\n",
       "       [2, 3]])"
      ]
     },
     "execution_count": 56,
     "metadata": {},
     "output_type": "execute_result"
    }
   ],
   "source": [
    "np.random.seed(7)\n",
    "\n",
    "random_array_4 = np.random.randint(low=1, high=5, size=(2,2))\n",
    "\n",
    "random_array_4"
   ]
  },
  {
   "cell_type": "code",
   "execution_count": 57,
   "id": "778c625c",
   "metadata": {},
   "outputs": [],
   "source": [
    "# notice how random_array_3 and 4 remain the same\n",
    "# seed() ensures that random results are reproducable"
   ]
  },
  {
   "cell_type": "code",
   "execution_count": 59,
   "id": "26027c1c",
   "metadata": {},
   "outputs": [
    {
     "data": {
      "text/plain": [
       "array([1], dtype=int64)"
      ]
     },
     "execution_count": 59,
     "metadata": {},
     "output_type": "execute_result"
    }
   ],
   "source": [
    "# find the unique values in a matrix/array\n",
    "\n",
    "np.unique(ones_array)"
   ]
  },
  {
   "cell_type": "markdown",
   "id": "d15edf2b",
   "metadata": {},
   "source": [
    "## Viewing matrices"
   ]
  },
  {
   "cell_type": "markdown",
   "id": "ecf25865",
   "metadata": {},
   "source": [
    "### 3D Array"
   ]
  },
  {
   "cell_type": "markdown",
   "id": "6c8c0a7c",
   "metadata": {},
   "source": [
    "![\"3d array\"](3d.png)"
   ]
  },
  {
   "cell_type": "markdown",
   "id": "b2fd92f7",
   "metadata": {},
   "source": [
    "### 4D Array"
   ]
  },
  {
   "cell_type": "markdown",
   "id": "e1201b4c",
   "metadata": {},
   "source": [
    "![\"4d array\"](4d.png)"
   ]
  },
  {
   "cell_type": "markdown",
   "id": "d6275748",
   "metadata": {},
   "source": [
    "#### After looking at the above examples, we see a pattern here. An n-dimensional array is a collection of n-1 dimensional arrays, for n > 0."
   ]
  },
  {
   "cell_type": "code",
   "execution_count": null,
   "id": "a1fe8fd3",
   "metadata": {},
   "outputs": [],
   "source": [
    "\"\"\"\n",
    "(2,3,4,2,3) = 2_ 4_D arrays of 4_ matrices of 2_ rows and 3_ columns\n",
    "\"\"\""
   ]
  },
  {
   "cell_type": "code",
   "execution_count": 61,
   "id": "20624d29",
   "metadata": {},
   "outputs": [
    {
     "data": {
      "text/plain": [
       "array([[1, 2, 3],\n",
       "       [4, 5, 6]])"
      ]
     },
     "execution_count": 61,
     "metadata": {},
     "output_type": "execute_result"
    }
   ],
   "source": [
    "a2"
   ]
  },
  {
   "cell_type": "code",
   "execution_count": 62,
   "id": "e3737297",
   "metadata": {},
   "outputs": [
    {
     "data": {
      "text/plain": [
       "array([1, 2, 3])"
      ]
     },
     "execution_count": 62,
     "metadata": {},
     "output_type": "execute_result"
    }
   ],
   "source": [
    "a2[0]"
   ]
  },
  {
   "cell_type": "code",
   "execution_count": 63,
   "id": "4b67984e",
   "metadata": {},
   "outputs": [
    {
     "data": {
      "text/plain": [
       "array([[[ 1,  2,  3],\n",
       "        [ 4,  5,  6],\n",
       "        [ 7,  8,  9]],\n",
       "\n",
       "       [[10, 11, 12],\n",
       "        [13, 14, 15],\n",
       "        [16, 17, 18]]])"
      ]
     },
     "execution_count": 63,
     "metadata": {},
     "output_type": "execute_result"
    }
   ],
   "source": [
    "a3"
   ]
  },
  {
   "cell_type": "code",
   "execution_count": 64,
   "id": "99d553d3",
   "metadata": {},
   "outputs": [
    {
     "data": {
      "text/plain": [
       "array([[1, 2, 3],\n",
       "       [4, 5, 6],\n",
       "       [7, 8, 9]])"
      ]
     },
     "execution_count": 64,
     "metadata": {},
     "output_type": "execute_result"
    }
   ],
   "source": [
    "a3[0]"
   ]
  },
  {
   "cell_type": "code",
   "execution_count": 6,
   "id": "adae5fbb",
   "metadata": {},
   "outputs": [
    {
     "data": {
      "text/plain": [
       "array([[[[2, 2, 1],\n",
       "         [2, 2, 2],\n",
       "         [1, 1, 2]],\n",
       "\n",
       "        [[1, 1, 1],\n",
       "         [2, 1, 2],\n",
       "         [2, 1, 1]]],\n",
       "\n",
       "\n",
       "       [[[1, 2, 2],\n",
       "         [1, 2, 2],\n",
       "         [2, 2, 1]],\n",
       "\n",
       "        [[1, 1, 1],\n",
       "         [2, 1, 2],\n",
       "         [1, 2, 1]]]])"
      ]
     },
     "execution_count": 6,
     "metadata": {},
     "output_type": "execute_result"
    }
   ],
   "source": [
    "random_array_5 = np.random.randint(low=1, high=3, size=(2,2,3,3))\n",
    "random_array_5"
   ]
  },
  {
   "cell_type": "code",
   "execution_count": 75,
   "id": "69cb4e28",
   "metadata": {},
   "outputs": [
    {
     "data": {
      "text/plain": [
       "4"
      ]
     },
     "execution_count": 75,
     "metadata": {},
     "output_type": "execute_result"
    }
   ],
   "source": [
    "random_array_5.ndim"
   ]
  },
  {
   "cell_type": "markdown",
   "id": "3298c0ce",
   "metadata": {},
   "source": [
    "### Slicing"
   ]
  },
  {
   "cell_type": "code",
   "execution_count": 7,
   "id": "4d693606",
   "metadata": {},
   "outputs": [
    {
     "data": {
      "text/plain": [
       "array([[[[2, 2, 1],\n",
       "         [2, 2, 2],\n",
       "         [1, 1, 2]],\n",
       "\n",
       "        [[1, 1, 1],\n",
       "         [2, 1, 2],\n",
       "         [2, 1, 1]]],\n",
       "\n",
       "\n",
       "       [[[1, 2, 2],\n",
       "         [1, 2, 2],\n",
       "         [2, 2, 1]],\n",
       "\n",
       "        [[1, 1, 1],\n",
       "         [2, 1, 2],\n",
       "         [1, 2, 1]]]])"
      ]
     },
     "execution_count": 7,
     "metadata": {},
     "output_type": "execute_result"
    }
   ],
   "source": [
    "random_array_5"
   ]
  },
  {
   "cell_type": "code",
   "execution_count": 10,
   "id": "6799520d",
   "metadata": {},
   "outputs": [
    {
     "data": {
      "text/plain": [
       "array([[[[2]],\n",
       "\n",
       "        [[1]]],\n",
       "\n",
       "\n",
       "       [[[1]],\n",
       "\n",
       "        [[1]]]])"
      ]
     },
     "execution_count": 10,
     "metadata": {},
     "output_type": "execute_result"
    }
   ],
   "source": [
    "random_array_5[:,:,:1,:1]"
   ]
  },
  {
   "cell_type": "code",
   "execution_count": 9,
   "id": "e07a65b4",
   "metadata": {},
   "outputs": [
    {
     "data": {
      "text/plain": [
       "array([[[[2, 2, 1],\n",
       "         [2, 2, 2],\n",
       "         [1, 1, 2]]],\n",
       "\n",
       "\n",
       "       [[[1, 2, 2],\n",
       "         [1, 2, 2],\n",
       "         [2, 2, 1]]]])"
      ]
     },
     "execution_count": 9,
     "metadata": {},
     "output_type": "execute_result"
    }
   ],
   "source": [
    "random_array_5[:,:1]"
   ]
  },
  {
   "cell_type": "markdown",
   "id": "df832d53",
   "metadata": {},
   "source": [
    "## Manipulating & Comparing Arrays"
   ]
  },
  {
   "cell_type": "markdown",
   "id": "1945e6a3",
   "metadata": {},
   "source": [
    "\n",
    "### Arithmetic\n"
   ]
  },
  {
   "cell_type": "code",
   "execution_count": 11,
   "id": "27f3c6ee",
   "metadata": {},
   "outputs": [
    {
     "data": {
      "text/plain": [
       "array([1, 2, 3])"
      ]
     },
     "execution_count": 11,
     "metadata": {},
     "output_type": "execute_result"
    }
   ],
   "source": [
    "a1"
   ]
  },
  {
   "cell_type": "code",
   "execution_count": 15,
   "id": "c3e6ee09",
   "metadata": {},
   "outputs": [
    {
     "data": {
      "text/plain": [
       "array([1., 1., 1.])"
      ]
     },
     "execution_count": 15,
     "metadata": {},
     "output_type": "execute_result"
    }
   ],
   "source": [
    "ones_array = np.ones(3)\n",
    "ones_array"
   ]
  },
  {
   "cell_type": "code",
   "execution_count": 16,
   "id": "36eb8d9e",
   "metadata": {},
   "outputs": [
    {
     "data": {
      "text/plain": [
       "array([2., 3., 4.])"
      ]
     },
     "execution_count": 16,
     "metadata": {},
     "output_type": "execute_result"
    }
   ],
   "source": [
    "a1 + ones_array"
   ]
  },
  {
   "cell_type": "code",
   "execution_count": 17,
   "id": "b71d427e",
   "metadata": {},
   "outputs": [
    {
     "data": {
      "text/plain": [
       "array([0., 1., 2.])"
      ]
     },
     "execution_count": 17,
     "metadata": {},
     "output_type": "execute_result"
    }
   ],
   "source": [
    "a1 - ones_array"
   ]
  },
  {
   "cell_type": "code",
   "execution_count": 20,
   "id": "bc0eba52",
   "metadata": {},
   "outputs": [
    {
     "data": {
      "text/plain": [
       "array([[1, 2, 3],\n",
       "       [4, 5, 6]])"
      ]
     },
     "execution_count": 20,
     "metadata": {},
     "output_type": "execute_result"
    }
   ],
   "source": [
    "a2"
   ]
  },
  {
   "cell_type": "code",
   "execution_count": 21,
   "id": "eecb8961",
   "metadata": {},
   "outputs": [
    {
     "data": {
      "text/plain": [
       "array([[ 1,  4,  9],\n",
       "       [ 4, 10, 18]])"
      ]
     },
     "execution_count": 21,
     "metadata": {},
     "output_type": "execute_result"
    }
   ],
   "source": [
    "a1 * a2"
   ]
  },
  {
   "cell_type": "markdown",
   "id": "d1c6ee48",
   "metadata": {},
   "source": [
    "**NOTE**\n",
    "- **Braodcasting** - how numpy treats arrays with different shapes during arithmetic operations\n",
    "- The smaller array is broadcast to the bigger array so that the result has a similar shape to the larger array\n",
    "- When operating on two arrays, NumPy compares their shapes element-wise. It starts with the trailing (i.e. rightmost) dimensions and works its way left.\n",
    "- Two dimensions are compatible when: they are equal (i.e a1.ndim = 3 and a2.ndim = 3), or one of them is 1\n",
    "- Read more: [Numpy Docs](https://numpy.org/doc/stable/user/basics.broadcasting.html)"
   ]
  },
  {
   "cell_type": "code",
   "execution_count": 23,
   "id": "12abe1c4",
   "metadata": {},
   "outputs": [
    {
     "data": {
      "text/plain": [
       "array([[[4, 3, 4],\n",
       "        [2, 2, 3],\n",
       "        [3, 2, 4]],\n",
       "\n",
       "       [[3, 3, 2],\n",
       "        [1, 4, 4],\n",
       "        [1, 1, 4]]])"
      ]
     },
     "execution_count": 23,
     "metadata": {},
     "output_type": "execute_result"
    }
   ],
   "source": [
    "a3 = np.random.randint(low=1, high=5, size=(2,3,3))\n",
    "a3"
   ]
  },
  {
   "cell_type": "code",
   "execution_count": 24,
   "id": "7bf4f278",
   "metadata": {},
   "outputs": [
    {
     "ename": "ValueError",
     "evalue": "operands could not be broadcast together with shapes (2,3) (2,3,3) ",
     "output_type": "error",
     "traceback": [
      "\u001b[1;31m---------------------------------------------------------------------------\u001b[0m",
      "\u001b[1;31mValueError\u001b[0m                                Traceback (most recent call last)",
      "\u001b[1;32m~\\AppData\\Local\\Temp/ipykernel_15008/1739192805.py\u001b[0m in \u001b[0;36m<module>\u001b[1;34m\u001b[0m\n\u001b[1;32m----> 1\u001b[1;33m \u001b[0ma2\u001b[0m\u001b[1;33m*\u001b[0m\u001b[0ma3\u001b[0m\u001b[1;33m\u001b[0m\u001b[1;33m\u001b[0m\u001b[0m\n\u001b[0m",
      "\u001b[1;31mValueError\u001b[0m: operands could not be broadcast together with shapes (2,3) (2,3,3) "
     ]
    }
   ],
   "source": [
    "a2*a3"
   ]
  },
  {
   "cell_type": "code",
   "execution_count": 30,
   "id": "78792854",
   "metadata": {},
   "outputs": [
    {
     "data": {
      "text/plain": [
       "((2, 3), (2, 3, 3))"
      ]
     },
     "execution_count": 30,
     "metadata": {},
     "output_type": "execute_result"
    }
   ],
   "source": [
    "a2.shape, a3.shape"
   ]
  },
  {
   "cell_type": "code",
   "execution_count": 25,
   "id": "3d06c32d",
   "metadata": {},
   "outputs": [],
   "source": [
    "a4 = np.arange(4)\n",
    "a5 = np.arange(5)"
   ]
  },
  {
   "cell_type": "code",
   "execution_count": 26,
   "id": "03471ccf",
   "metadata": {},
   "outputs": [
    {
     "data": {
      "text/plain": [
       "array([0, 1, 2, 3])"
      ]
     },
     "execution_count": 26,
     "metadata": {},
     "output_type": "execute_result"
    }
   ],
   "source": [
    "a4"
   ]
  },
  {
   "cell_type": "code",
   "execution_count": 27,
   "id": "850b98fa",
   "metadata": {},
   "outputs": [
    {
     "data": {
      "text/plain": [
       "array([0, 1, 2, 3, 4])"
      ]
     },
     "execution_count": 27,
     "metadata": {},
     "output_type": "execute_result"
    }
   ],
   "source": [
    "a5"
   ]
  },
  {
   "cell_type": "code",
   "execution_count": 28,
   "id": "87691953",
   "metadata": {},
   "outputs": [
    {
     "ename": "ValueError",
     "evalue": "operands could not be broadcast together with shapes (4,) (5,) ",
     "output_type": "error",
     "traceback": [
      "\u001b[1;31m---------------------------------------------------------------------------\u001b[0m",
      "\u001b[1;31mValueError\u001b[0m                                Traceback (most recent call last)",
      "\u001b[1;32m~\\AppData\\Local\\Temp/ipykernel_15008/4025101148.py\u001b[0m in \u001b[0;36m<module>\u001b[1;34m\u001b[0m\n\u001b[1;32m----> 1\u001b[1;33m \u001b[0ma4\u001b[0m\u001b[1;33m*\u001b[0m\u001b[0ma5\u001b[0m\u001b[1;33m\u001b[0m\u001b[1;33m\u001b[0m\u001b[0m\n\u001b[0m",
      "\u001b[1;31mValueError\u001b[0m: operands could not be broadcast together with shapes (4,) (5,) "
     ]
    }
   ],
   "source": [
    "a4*a5"
   ]
  },
  {
   "cell_type": "code",
   "execution_count": 29,
   "id": "85caf6dc",
   "metadata": {},
   "outputs": [
    {
     "data": {
      "text/plain": [
       "((4,), (5,))"
      ]
     },
     "execution_count": 29,
     "metadata": {},
     "output_type": "execute_result"
    }
   ],
   "source": [
    "a4.shape, a5.shape"
   ]
  },
  {
   "cell_type": "markdown",
   "id": "50bcff52",
   "metadata": {},
   "source": [
    "**NOTE**\n",
    "- numpy has methods that perform these arithmetic operations:\n",
    "    `np.add()`\n",
    "    `np.square()`\n",
    "    etc..."
   ]
  },
  {
   "cell_type": "markdown",
   "id": "cdab7dd4",
   "metadata": {},
   "source": [
    "### Aggregation\n",
    "\n",
    "- Performing the same operation on a number of things\n",
    "- **NOTE:** Use numpy methods on numpy arrays. Use python's methods on python datatypes\n",
    "- Example:\n",
    "\n",
    "if `type(a1)` is *ndarray*\n",
    "\n",
    "`np.sum(array_1)`✅\n",
    "\n",
    "`sum(a1)`❌"
   ]
  },
  {
   "cell_type": "code",
   "execution_count": 31,
   "id": "86856fb5",
   "metadata": {},
   "outputs": [
    {
     "data": {
      "text/plain": [
       "array([1, 2, 3])"
      ]
     },
     "execution_count": 31,
     "metadata": {},
     "output_type": "execute_result"
    }
   ],
   "source": [
    "a1"
   ]
  },
  {
   "cell_type": "code",
   "execution_count": 32,
   "id": "dd18d0e7",
   "metadata": {},
   "outputs": [
    {
     "data": {
      "text/plain": [
       "6"
      ]
     },
     "execution_count": 32,
     "metadata": {},
     "output_type": "execute_result"
    }
   ],
   "source": [
    "np.sum(a1)"
   ]
  },
  {
   "cell_type": "markdown",
   "id": "7091ca94",
   "metadata": {},
   "source": [
    "#### some of the aggregation fns for numpy:\n",
    "    \n",
    "`np.mean()`\n",
    "\n",
    "`np.min()` & `np.max()`\n",
    "\n",
    "`np.std()` = standard deviation\n",
    "\n",
    "`np.var()` = variance"
   ]
  },
  {
   "cell_type": "code",
   "execution_count": 35,
   "id": "344abf3e",
   "metadata": {},
   "outputs": [],
   "source": [
    "\"\"\"\n",
    "variance - measure of the average degree to which each number is different\n",
    "to the mean\n",
    "\n",
    "standard deviation - a measure of how spread out a group of numbers is from the\n",
    "mean\n",
    "\n",
    "both are measures of the spread of data\n",
    "\n",
    "\"\"\"\n",
    "\n",
    "high_var_array = np.array([1,100,300,4000,5000])\n",
    "low_var_array = np.array([2,4,6,8,10])"
   ]
  },
  {
   "cell_type": "code",
   "execution_count": 34,
   "id": "42f25173",
   "metadata": {},
   "outputs": [
    {
     "data": {
      "text/plain": [
       "(4684848.16, 8.0)"
      ]
     },
     "execution_count": 34,
     "metadata": {},
     "output_type": "execute_result"
    }
   ],
   "source": [
    "np.var(high_var_array), np.var(low_var_array)"
   ]
  },
  {
   "cell_type": "code",
   "execution_count": 36,
   "id": "b03564fc",
   "metadata": {},
   "outputs": [
    {
     "data": {
      "text/plain": [
       "(2164.451006606525, 2.8284271247461903)"
      ]
     },
     "execution_count": 36,
     "metadata": {},
     "output_type": "execute_result"
    }
   ],
   "source": [
    "np.std(high_var_array), np.std(low_var_array)"
   ]
  },
  {
   "cell_type": "code",
   "execution_count": 37,
   "id": "e193abba",
   "metadata": {},
   "outputs": [
    {
     "data": {
      "text/plain": [
       "(1880.2, 6.0)"
      ]
     },
     "execution_count": 37,
     "metadata": {},
     "output_type": "execute_result"
    }
   ],
   "source": [
    "np.mean(high_var_array), np.mean(low_var_array)"
   ]
  },
  {
   "cell_type": "markdown",
   "id": "3bbb1b13",
   "metadata": {},
   "source": [
    "### Reshaping & Transposing\n",
    "\n",
    "- `reshape()` - used to modify an existing array to other custom shapes\n",
    "- `T` - (stands for transpose) used to swap the axis\\` "
   ]
  },
  {
   "cell_type": "code",
   "execution_count": 38,
   "id": "09378f77",
   "metadata": {},
   "outputs": [
    {
     "data": {
      "text/plain": [
       "array([[1, 2, 3],\n",
       "       [4, 5, 6]])"
      ]
     },
     "execution_count": 38,
     "metadata": {},
     "output_type": "execute_result"
    }
   ],
   "source": [
    "a2"
   ]
  },
  {
   "cell_type": "code",
   "execution_count": 39,
   "id": "0af36c4f",
   "metadata": {},
   "outputs": [
    {
     "data": {
      "text/plain": [
       "array([[[4, 3, 4],\n",
       "        [2, 2, 3],\n",
       "        [3, 2, 4]],\n",
       "\n",
       "       [[3, 3, 2],\n",
       "        [1, 4, 4],\n",
       "        [1, 1, 4]]])"
      ]
     },
     "execution_count": 39,
     "metadata": {},
     "output_type": "execute_result"
    }
   ],
   "source": [
    "a3"
   ]
  },
  {
   "cell_type": "code",
   "execution_count": 41,
   "id": "832b7d70",
   "metadata": {},
   "outputs": [
    {
     "data": {
      "text/plain": [
       "array([[[1],\n",
       "        [2],\n",
       "        [3]],\n",
       "\n",
       "       [[4],\n",
       "        [5],\n",
       "        [6]]])"
      ]
     },
     "execution_count": 41,
     "metadata": {},
     "output_type": "execute_result"
    }
   ],
   "source": [
    "a2_reshaped = a2.reshape(2,3,1)\n",
    "a2_reshaped"
   ]
  },
  {
   "cell_type": "code",
   "execution_count": 45,
   "id": "fe1d8ba2",
   "metadata": {},
   "outputs": [
    {
     "data": {
      "text/plain": [
       "array([[[ 4,  3,  4],\n",
       "        [ 4,  4,  6],\n",
       "        [ 9,  6, 12]],\n",
       "\n",
       "       [[12, 12,  8],\n",
       "        [ 5, 20, 20],\n",
       "        [ 6,  6, 24]]])"
      ]
     },
     "execution_count": 45,
     "metadata": {},
     "output_type": "execute_result"
    }
   ],
   "source": [
    "result = a2_reshaped * a3\n",
    "result"
   ]
  },
  {
   "cell_type": "code",
   "execution_count": 46,
   "id": "01ac79f5",
   "metadata": {},
   "outputs": [
    {
     "data": {
      "text/plain": [
       "(2, 3, 3)"
      ]
     },
     "execution_count": 46,
     "metadata": {},
     "output_type": "execute_result"
    }
   ],
   "source": [
    "result.shape"
   ]
  },
  {
   "cell_type": "code",
   "execution_count": 48,
   "id": "2c045b85",
   "metadata": {},
   "outputs": [
    {
     "data": {
      "text/plain": [
       "array([[[ 4, 12],\n",
       "        [ 4,  5],\n",
       "        [ 9,  6]],\n",
       "\n",
       "       [[ 3, 12],\n",
       "        [ 4, 20],\n",
       "        [ 6,  6]],\n",
       "\n",
       "       [[ 4,  8],\n",
       "        [ 6, 20],\n",
       "        [12, 24]]])"
      ]
     },
     "execution_count": 48,
     "metadata": {},
     "output_type": "execute_result"
    }
   ],
   "source": [
    "result.T"
   ]
  },
  {
   "cell_type": "code",
   "execution_count": 49,
   "id": "cb317443",
   "metadata": {},
   "outputs": [
    {
     "data": {
      "text/plain": [
       "(3, 3, 2)"
      ]
     },
     "execution_count": 49,
     "metadata": {},
     "output_type": "execute_result"
    }
   ],
   "source": [
    "result.T.shape"
   ]
  },
  {
   "cell_type": "markdown",
   "id": "2c386f2f",
   "metadata": {},
   "source": [
    "### Dot Product\n",
    "\n",
    "- so far we have been using multiply (\\*) arithmetic operation which is basically **Element-wise** multiplication. Also known as **Hadamard product**\n",
    "\n",
    "- `dot()` works by multiplying rows and columns. See image below for visualization\n",
    "\n",
    "- [Interactive demo](http://matrixmultiplication.xyz/)\n",
    "\n",
    "- this is yet another tool we will use to help our model find patterns in the numbers"
   ]
  },
  {
   "cell_type": "markdown",
   "id": "be602c16",
   "metadata": {},
   "source": [
    "![](dot-product.jpg)"
   ]
  },
  {
   "cell_type": "code",
   "execution_count": 57,
   "id": "364fbc3b",
   "metadata": {},
   "outputs": [],
   "source": [
    "np.random.seed(0)\n",
    "a5 = np.random.randint(low=4, high=12, size=(5,3))\n",
    "a6 = np.random.randint(low=2, high=10, size=(5,3))"
   ]
  },
  {
   "cell_type": "code",
   "execution_count": 58,
   "id": "8f8d4cb7",
   "metadata": {},
   "outputs": [
    {
     "data": {
      "text/plain": [
       "array([[ 8, 11,  9],\n",
       "       [ 4,  7,  7],\n",
       "       [ 7, 11,  5],\n",
       "       [ 7,  9,  6],\n",
       "       [ 8, 11, 10]])"
      ]
     },
     "execution_count": 58,
     "metadata": {},
     "output_type": "execute_result"
    }
   ],
   "source": [
    "a5"
   ]
  },
  {
   "cell_type": "code",
   "execution_count": 59,
   "id": "0761c8b9",
   "metadata": {},
   "outputs": [
    {
     "data": {
      "text/plain": [
       "array([[2, 2, 6],\n",
       "       [4, 3, 8],\n",
       "       [9, 9, 8],\n",
       "       [2, 3, 7],\n",
       "       [3, 7, 2]])"
      ]
     },
     "execution_count": 59,
     "metadata": {},
     "output_type": "execute_result"
    }
   ],
   "source": [
    "a6"
   ]
  },
  {
   "cell_type": "code",
   "execution_count": 60,
   "id": "19a35d9f",
   "metadata": {},
   "outputs": [
    {
     "ename": "ValueError",
     "evalue": "shapes (5,3) and (5,3) not aligned: 3 (dim 1) != 5 (dim 0)",
     "output_type": "error",
     "traceback": [
      "\u001b[1;31m---------------------------------------------------------------------------\u001b[0m",
      "\u001b[1;31mValueError\u001b[0m                                Traceback (most recent call last)",
      "\u001b[1;32m~\\AppData\\Local\\Temp/ipykernel_15008/3273787722.py\u001b[0m in \u001b[0;36m<module>\u001b[1;34m\u001b[0m\n\u001b[1;32m----> 1\u001b[1;33m \u001b[0mnp\u001b[0m\u001b[1;33m.\u001b[0m\u001b[0mdot\u001b[0m\u001b[1;33m(\u001b[0m\u001b[0ma5\u001b[0m\u001b[1;33m,\u001b[0m\u001b[0ma6\u001b[0m\u001b[1;33m)\u001b[0m\u001b[1;33m\u001b[0m\u001b[1;33m\u001b[0m\u001b[0m\n\u001b[0m",
      "\u001b[1;32m<__array_function__ internals>\u001b[0m in \u001b[0;36mdot\u001b[1;34m(*args, **kwargs)\u001b[0m\n",
      "\u001b[1;31mValueError\u001b[0m: shapes (5,3) and (5,3) not aligned: 3 (dim 1) != 5 (dim 0)"
     ]
    }
   ],
   "source": [
    "np.dot(a5,a6)"
   ]
  },
  {
   "cell_type": "code",
   "execution_count": 61,
   "id": "7d7534d7",
   "metadata": {},
   "outputs": [
    {
     "data": {
      "text/plain": [
       "array([[ 8,  4,  7,  7,  8],\n",
       "       [11,  7, 11,  9, 11],\n",
       "       [ 9,  7,  5,  6, 10]])"
      ]
     },
     "execution_count": 61,
     "metadata": {},
     "output_type": "execute_result"
    }
   ],
   "source": [
    "a5_transposed = a5.T\n",
    "a5_transposed"
   ]
  },
  {
   "cell_type": "code",
   "execution_count": 62,
   "id": "102a915a",
   "metadata": {},
   "outputs": [
    {
     "data": {
      "text/plain": [
       "(3, 5)"
      ]
     },
     "execution_count": 62,
     "metadata": {},
     "output_type": "execute_result"
    }
   ],
   "source": [
    "a5_transposed.shape"
   ]
  },
  {
   "cell_type": "code",
   "execution_count": 63,
   "id": "11dbf625",
   "metadata": {},
   "outputs": [
    {
     "data": {
      "text/plain": [
       "array([[133, 168, 201],\n",
       "       [200, 246, 295],\n",
       "       [133, 172, 212]])"
      ]
     },
     "execution_count": 63,
     "metadata": {},
     "output_type": "execute_result"
    }
   ],
   "source": [
    "np.dot(a5_transposed, a6)"
   ]
  },
  {
   "cell_type": "code",
   "execution_count": 65,
   "id": "00f2db7b",
   "metadata": {},
   "outputs": [
    {
     "data": {
      "text/plain": [
       "array([[ 92,  64,  66,  68,  98],\n",
       "       [137,  93, 101, 103, 145],\n",
       "       [243, 155, 202, 192, 251],\n",
       "       [112,  78,  82,  83, 119],\n",
       "       [119,  75, 108,  96, 121]])"
      ]
     },
     "execution_count": 65,
     "metadata": {},
     "output_type": "execute_result"
    }
   ],
   "source": [
    "a6.dot(a5_transposed)"
   ]
  },
  {
   "cell_type": "code",
   "execution_count": 66,
   "id": "934c319c",
   "metadata": {},
   "outputs": [
    {
     "data": {
      "text/plain": [
       "array([[ 92,  64,  66,  68,  98],\n",
       "       [137,  93, 101, 103, 145],\n",
       "       [243, 155, 202, 192, 251],\n",
       "       [112,  78,  82,  83, 119],\n",
       "       [119,  75, 108,  96, 121]])"
      ]
     },
     "execution_count": 66,
     "metadata": {},
     "output_type": "execute_result"
    }
   ],
   "source": [
    "np.dot(a6, a5_transposed)"
   ]
  },
  {
   "cell_type": "markdown",
   "id": "4ea3931b",
   "metadata": {},
   "source": [
    "## Sales Example"
   ]
  },
  {
   "cell_type": "code",
   "execution_count": 72,
   "id": "6fda8795",
   "metadata": {},
   "outputs": [
    {
     "data": {
      "text/plain": [
       "array([[12, 15,  0],\n",
       "       [ 3,  3,  7],\n",
       "       [ 9, 19, 18],\n",
       "       [ 4,  6, 12],\n",
       "       [ 1,  6,  7]])"
      ]
     },
     "execution_count": 72,
     "metadata": {},
     "output_type": "execute_result"
    }
   ],
   "source": [
    "# create weekly sales data\n",
    "\n",
    "np.random.seed(0)\n",
    "sales_array = np.random.randint(20, size=(5,3))\n",
    "sales_array"
   ]
  },
  {
   "cell_type": "code",
   "execution_count": 68,
   "id": "1aa80e9c",
   "metadata": {},
   "outputs": [],
   "source": [
    "import pandas as pd"
   ]
  },
  {
   "cell_type": "code",
   "execution_count": 73,
   "id": "785ee129",
   "metadata": {},
   "outputs": [
    {
     "data": {
      "text/html": [
       "<div>\n",
       "<style scoped>\n",
       "    .dataframe tbody tr th:only-of-type {\n",
       "        vertical-align: middle;\n",
       "    }\n",
       "\n",
       "    .dataframe tbody tr th {\n",
       "        vertical-align: top;\n",
       "    }\n",
       "\n",
       "    .dataframe thead th {\n",
       "        text-align: right;\n",
       "    }\n",
       "</style>\n",
       "<table border=\"1\" class=\"dataframe\">\n",
       "  <thead>\n",
       "    <tr style=\"text-align: right;\">\n",
       "      <th></th>\n",
       "      <th>Almond Butter</th>\n",
       "      <th>Peanut Butter</th>\n",
       "      <th>Cashew Butter</th>\n",
       "    </tr>\n",
       "  </thead>\n",
       "  <tbody>\n",
       "    <tr>\n",
       "      <th>Mon</th>\n",
       "      <td>12</td>\n",
       "      <td>15</td>\n",
       "      <td>0</td>\n",
       "    </tr>\n",
       "    <tr>\n",
       "      <th>Tue</th>\n",
       "      <td>3</td>\n",
       "      <td>3</td>\n",
       "      <td>7</td>\n",
       "    </tr>\n",
       "    <tr>\n",
       "      <th>Wed</th>\n",
       "      <td>9</td>\n",
       "      <td>19</td>\n",
       "      <td>18</td>\n",
       "    </tr>\n",
       "    <tr>\n",
       "      <th>Thur</th>\n",
       "      <td>4</td>\n",
       "      <td>6</td>\n",
       "      <td>12</td>\n",
       "    </tr>\n",
       "    <tr>\n",
       "      <th>Fri</th>\n",
       "      <td>1</td>\n",
       "      <td>6</td>\n",
       "      <td>7</td>\n",
       "    </tr>\n",
       "  </tbody>\n",
       "</table>\n",
       "</div>"
      ],
      "text/plain": [
       "      Almond Butter  Peanut Butter  Cashew Butter\n",
       "Mon              12             15              0\n",
       "Tue               3              3              7\n",
       "Wed               9             19             18\n",
       "Thur              4              6             12\n",
       "Fri               1              6              7"
      ]
     },
     "execution_count": 73,
     "metadata": {},
     "output_type": "execute_result"
    }
   ],
   "source": [
    "# create weekly sales dataframe\n",
    "\n",
    "days = [\"Mon\", \"Tue\", \"Wed\", \"Thur\", \"Fri\"]\n",
    "products = [\"Almond Butter\", \"Peanut Butter\", \"Cashew Butter\"]\n",
    "sales_df = pd.DataFrame(sales_array, index=idx_array, columns=products)\n",
    "sales_df"
   ]
  },
  {
   "cell_type": "code",
   "execution_count": 74,
   "id": "c64a2a1d",
   "metadata": {},
   "outputs": [
    {
     "data": {
      "text/plain": [
       "array([10,  8, 12])"
      ]
     },
     "execution_count": 74,
     "metadata": {},
     "output_type": "execute_result"
    }
   ],
   "source": [
    "# create product prices data\n",
    "\n",
    "prices = np.array([10,8,12])\n",
    "prices"
   ]
  },
  {
   "cell_type": "code",
   "execution_count": 82,
   "id": "1b185607",
   "metadata": {},
   "outputs": [
    {
     "data": {
      "text/html": [
       "<div>\n",
       "<style scoped>\n",
       "    .dataframe tbody tr th:only-of-type {\n",
       "        vertical-align: middle;\n",
       "    }\n",
       "\n",
       "    .dataframe tbody tr th {\n",
       "        vertical-align: top;\n",
       "    }\n",
       "\n",
       "    .dataframe thead th {\n",
       "        text-align: right;\n",
       "    }\n",
       "</style>\n",
       "<table border=\"1\" class=\"dataframe\">\n",
       "  <thead>\n",
       "    <tr style=\"text-align: right;\">\n",
       "      <th></th>\n",
       "      <th>Almond Butter</th>\n",
       "      <th>Peanut Butter</th>\n",
       "      <th>Cashew Butter</th>\n",
       "    </tr>\n",
       "  </thead>\n",
       "  <tbody>\n",
       "    <tr>\n",
       "      <th>Price</th>\n",
       "      <td>10</td>\n",
       "      <td>8</td>\n",
       "      <td>12</td>\n",
       "    </tr>\n",
       "  </tbody>\n",
       "</table>\n",
       "</div>"
      ],
      "text/plain": [
       "       Almond Butter  Peanut Butter  Cashew Butter\n",
       "Price             10              8             12"
      ]
     },
     "execution_count": 82,
     "metadata": {},
     "output_type": "execute_result"
    }
   ],
   "source": [
    "# create product prices dataframe\n",
    "\n",
    "prices_df = pd.DataFrame(prices.reshape(1,3), index=[\"Price\"], columns=products)\n",
    "prices_df"
   ]
  },
  {
   "cell_type": "code",
   "execution_count": 83,
   "id": "a9c25d7c",
   "metadata": {},
   "outputs": [
    {
     "data": {
      "text/plain": [
       "((5, 3), (3,))"
      ]
     },
     "execution_count": 83,
     "metadata": {},
     "output_type": "execute_result"
    }
   ],
   "source": [
    "sales_array.shape, prices.shape"
   ]
  },
  {
   "cell_type": "code",
   "execution_count": 86,
   "id": "80ab8f24",
   "metadata": {},
   "outputs": [
    {
     "data": {
      "text/plain": [
       "array([240, 138, 458, 232, 142])"
      ]
     },
     "execution_count": 86,
     "metadata": {},
     "output_type": "execute_result"
    }
   ],
   "source": [
    "# Get total sales for each day\n",
    "\n",
    "total = sales_array.dot(prices)\n",
    "total"
   ]
  },
  {
   "cell_type": "code",
   "execution_count": 87,
   "id": "66ac7a24",
   "metadata": {},
   "outputs": [
    {
     "data": {
      "text/html": [
       "<div>\n",
       "<style scoped>\n",
       "    .dataframe tbody tr th:only-of-type {\n",
       "        vertical-align: middle;\n",
       "    }\n",
       "\n",
       "    .dataframe tbody tr th {\n",
       "        vertical-align: top;\n",
       "    }\n",
       "\n",
       "    .dataframe thead th {\n",
       "        text-align: right;\n",
       "    }\n",
       "</style>\n",
       "<table border=\"1\" class=\"dataframe\">\n",
       "  <thead>\n",
       "    <tr style=\"text-align: right;\">\n",
       "      <th></th>\n",
       "      <th>Almond Butter</th>\n",
       "      <th>Peanut Butter</th>\n",
       "      <th>Cashew Butter</th>\n",
       "      <th>Total</th>\n",
       "    </tr>\n",
       "  </thead>\n",
       "  <tbody>\n",
       "    <tr>\n",
       "      <th>Mon</th>\n",
       "      <td>12</td>\n",
       "      <td>15</td>\n",
       "      <td>0</td>\n",
       "      <td>240</td>\n",
       "    </tr>\n",
       "    <tr>\n",
       "      <th>Tue</th>\n",
       "      <td>3</td>\n",
       "      <td>3</td>\n",
       "      <td>7</td>\n",
       "      <td>138</td>\n",
       "    </tr>\n",
       "    <tr>\n",
       "      <th>Wed</th>\n",
       "      <td>9</td>\n",
       "      <td>19</td>\n",
       "      <td>18</td>\n",
       "      <td>458</td>\n",
       "    </tr>\n",
       "    <tr>\n",
       "      <th>Thur</th>\n",
       "      <td>4</td>\n",
       "      <td>6</td>\n",
       "      <td>12</td>\n",
       "      <td>232</td>\n",
       "    </tr>\n",
       "    <tr>\n",
       "      <th>Fri</th>\n",
       "      <td>1</td>\n",
       "      <td>6</td>\n",
       "      <td>7</td>\n",
       "      <td>142</td>\n",
       "    </tr>\n",
       "  </tbody>\n",
       "</table>\n",
       "</div>"
      ],
      "text/plain": [
       "      Almond Butter  Peanut Butter  Cashew Butter  Total\n",
       "Mon              12             15              0    240\n",
       "Tue               3              3              7    138\n",
       "Wed               9             19             18    458\n",
       "Thur              4              6             12    232\n",
       "Fri               1              6              7    142"
      ]
     },
     "execution_count": 87,
     "metadata": {},
     "output_type": "execute_result"
    }
   ],
   "source": [
    "# add the total to the sales dataframe\n",
    "\n",
    "sales_df[\"Total\"] = total.reshape(5,1)\n",
    "sales_df"
   ]
  },
  {
   "cell_type": "markdown",
   "id": "ea275e2b",
   "metadata": {},
   "source": [
    "### Comparison Operators"
   ]
  },
  {
   "cell_type": "code",
   "execution_count": 88,
   "id": "f3cc42f6",
   "metadata": {},
   "outputs": [
    {
     "data": {
      "text/plain": [
       "array([1, 2, 3])"
      ]
     },
     "execution_count": 88,
     "metadata": {},
     "output_type": "execute_result"
    }
   ],
   "source": [
    "a1"
   ]
  },
  {
   "cell_type": "code",
   "execution_count": 89,
   "id": "00b6ee73",
   "metadata": {},
   "outputs": [
    {
     "data": {
      "text/plain": [
       "array([[1, 2, 3],\n",
       "       [4, 5, 6]])"
      ]
     },
     "execution_count": 89,
     "metadata": {},
     "output_type": "execute_result"
    }
   ],
   "source": [
    "a2"
   ]
  },
  {
   "cell_type": "code",
   "execution_count": 90,
   "id": "23a78ac9",
   "metadata": {},
   "outputs": [
    {
     "data": {
      "text/plain": [
       "array([[ True,  True,  True],\n",
       "       [False, False, False]])"
      ]
     },
     "execution_count": 90,
     "metadata": {},
     "output_type": "execute_result"
    }
   ],
   "source": [
    "a1 >= a2"
   ]
  },
  {
   "cell_type": "markdown",
   "id": "d72f3290",
   "metadata": {},
   "source": [
    "## Sorting Arrays"
   ]
  },
  {
   "cell_type": "code",
   "execution_count": 93,
   "id": "751ae0b9",
   "metadata": {},
   "outputs": [
    {
     "data": {
      "text/plain": [
       "array([[ 8, 11,  9],\n",
       "       [ 4,  7,  7],\n",
       "       [ 7, 11,  5],\n",
       "       [ 7,  9,  6],\n",
       "       [ 8, 11, 10]])"
      ]
     },
     "execution_count": 93,
     "metadata": {},
     "output_type": "execute_result"
    }
   ],
   "source": [
    "a5"
   ]
  },
  {
   "cell_type": "code",
   "execution_count": 94,
   "id": "0de706fc",
   "metadata": {},
   "outputs": [
    {
     "data": {
      "text/plain": [
       "array([[ 8,  9, 11],\n",
       "       [ 4,  7,  7],\n",
       "       [ 5,  7, 11],\n",
       "       [ 6,  7,  9],\n",
       "       [ 8, 10, 11]])"
      ]
     },
     "execution_count": 94,
     "metadata": {},
     "output_type": "execute_result"
    }
   ],
   "source": [
    "a5_sorted = np.sort(a5)\n",
    "a5_sorted"
   ]
  },
  {
   "cell_type": "code",
   "execution_count": 95,
   "id": "0c767dda",
   "metadata": {},
   "outputs": [
    {
     "data": {
      "text/plain": [
       "array([[0, 2, 1],\n",
       "       [0, 1, 2],\n",
       "       [2, 0, 1],\n",
       "       [2, 0, 1],\n",
       "       [0, 2, 1]], dtype=int64)"
      ]
     },
     "execution_count": 95,
     "metadata": {},
     "output_type": "execute_result"
    }
   ],
   "source": [
    "# sort according to the idx of the items\n",
    "\n",
    "np.argsort(a5)"
   ]
  },
  {
   "cell_type": "code",
   "execution_count": 97,
   "id": "1764b294",
   "metadata": {},
   "outputs": [
    {
     "data": {
      "text/plain": [
       "array([0, 0, 4], dtype=int64)"
      ]
     },
     "execution_count": 97,
     "metadata": {},
     "output_type": "execute_result"
    }
   ],
   "source": [
    "# get the max value according to its index\n",
    "\n",
    "np.argmax(a5, axis=0)"
   ]
  },
  {
   "cell_type": "code",
   "execution_count": 98,
   "id": "28c5e285",
   "metadata": {},
   "outputs": [
    {
     "data": {
      "text/plain": [
       "array([1, 1, 1, 1, 1], dtype=int64)"
      ]
     },
     "execution_count": 98,
     "metadata": {},
     "output_type": "execute_result"
    }
   ],
   "source": [
    "np.argmax(a5, axis=1)"
   ]
  },
  {
   "cell_type": "markdown",
   "id": "0d8a23b2",
   "metadata": {},
   "source": [
    "## Converting Images to Arrays"
   ]
  },
  {
   "cell_type": "code",
   "execution_count": 99,
   "id": "dbcb7ea4",
   "metadata": {},
   "outputs": [],
   "source": [
    "from matplotlib.image import imread"
   ]
  },
  {
   "cell_type": "markdown",
   "id": "9127a4a4",
   "metadata": {},
   "source": [
    "![girl-image](girl.jpg)"
   ]
  },
  {
   "cell_type": "code",
   "execution_count": 107,
   "id": "d7ad28b4",
   "metadata": {},
   "outputs": [
    {
     "data": {
      "text/plain": [
       "array([[[187, 165, 152],\n",
       "        [184, 166, 154],\n",
       "        [175, 163, 149],\n",
       "        ...,\n",
       "        [250, 247, 240],\n",
       "        [250, 247, 240],\n",
       "        [250, 247, 240]]], dtype=uint8)"
      ]
     },
     "execution_count": 107,
     "metadata": {},
     "output_type": "execute_result"
    }
   ],
   "source": [
    "girl_array = imread(\"girl.jpg\")\n",
    "girl_array[:1,]"
   ]
  },
  {
   "cell_type": "code",
   "execution_count": 101,
   "id": "c9e5e0d9",
   "metadata": {},
   "outputs": [
    {
     "data": {
      "text/plain": [
       "((3000, 2000, 3), 18000000, 3)"
      ]
     },
     "execution_count": 101,
     "metadata": {},
     "output_type": "execute_result"
    }
   ],
   "source": [
    "girl_array.shape, girl_array.size, girl_array.ndim"
   ]
  },
  {
   "cell_type": "markdown",
   "id": "f68d0d2b",
   "metadata": {},
   "source": [
    "## More Resources"
   ]
  },
  {
   "cell_type": "markdown",
   "id": "be4d5308",
   "metadata": {},
   "source": [
    "[Visual Numpy](http://jalammar.github.io/visual-numpy/)"
   ]
  },
  {
   "cell_type": "code",
   "execution_count": null,
   "id": "c51b7edb",
   "metadata": {},
   "outputs": [],
   "source": []
  }
 ],
 "metadata": {
  "kernelspec": {
   "display_name": "Python 3 (ipykernel)",
   "language": "python",
   "name": "python3"
  },
  "language_info": {
   "codemirror_mode": {
    "name": "ipython",
    "version": 3
   },
   "file_extension": ".py",
   "mimetype": "text/x-python",
   "name": "python",
   "nbconvert_exporter": "python",
   "pygments_lexer": "ipython3",
   "version": "3.9.7"
  }
 },
 "nbformat": 4,
 "nbformat_minor": 5
}
